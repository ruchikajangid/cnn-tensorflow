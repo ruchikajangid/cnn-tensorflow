{
  "nbformat": 4,
  "nbformat_minor": 0,
  "metadata": {
    "colab": {
      "name": "Copy of inference.ipynb",
      "provenance": []
    },
    "kernelspec": {
      "name": "python3",
      "display_name": "Python 3"
    }
  },
  "cells": [
    {
      "cell_type": "code",
      "metadata": {
        "id": "YRGIPE3qpBOy",
        "colab_type": "code",
        "outputId": "400e8649-8480-403d-8789-9bc3dbd72d29",
        "colab": {
          "base_uri": "https://localhost:8080/",
          "height": 578
        }
      },
      "source": [
        "!wget http://www.robots.ox.ac.uk/~vgg/data/flowers/102/102flowers.tgz\n",
        "!mkdir -p ~/data/flowers\n",
        "!tar -xzf 102flowers.tgz -C ~/data/flowers/\n",
        "!rm 102flowers.tgz\n",
        "!wget http://www.robots.ox.ac.uk/~vgg/data/flowers/102/setid.mat\n",
        "!wget http://www.robots.ox.ac.uk/~vgg/data/flowers/102/imagelabels.mat\n",
        "!mv setid.mat ~/data/flowers/setid.mat\n",
        "!mv imagelabels.mat ~/data/flowers/imagelabels.mat"
      ],
      "execution_count": 1,
      "outputs": [
        {
          "output_type": "stream",
          "text": [
            "--2020-04-03 10:05:46--  http://www.robots.ox.ac.uk/~vgg/data/flowers/102/102flowers.tgz\n",
            "Resolving www.robots.ox.ac.uk (www.robots.ox.ac.uk)... 129.67.94.2\n",
            "Connecting to www.robots.ox.ac.uk (www.robots.ox.ac.uk)|129.67.94.2|:80... connected.\n",
            "HTTP request sent, awaiting response... 200 OK\n",
            "Length: 344862509 (329M) [application/x-gzip]\n",
            "Saving to: ‘102flowers.tgz’\n",
            "\n",
            "102flowers.tgz      100%[===================>] 328.89M  32.5MB/s    in 11s     \n",
            "\n",
            "2020-04-03 10:05:57 (30.6 MB/s) - ‘102flowers.tgz’ saved [344862509/344862509]\n",
            "\n",
            "--2020-04-03 10:06:09--  http://www.robots.ox.ac.uk/~vgg/data/flowers/102/setid.mat\n",
            "Resolving www.robots.ox.ac.uk (www.robots.ox.ac.uk)... 129.67.94.2\n",
            "Connecting to www.robots.ox.ac.uk (www.robots.ox.ac.uk)|129.67.94.2|:80... connected.\n",
            "HTTP request sent, awaiting response... 200 OK\n",
            "Length: 14989 (15K)\n",
            "Saving to: ‘setid.mat’\n",
            "\n",
            "setid.mat           100%[===================>]  14.64K  --.-KB/s    in 0.09s   \n",
            "\n",
            "2020-04-03 10:06:09 (164 KB/s) - ‘setid.mat’ saved [14989/14989]\n",
            "\n",
            "--2020-04-03 10:06:13--  http://www.robots.ox.ac.uk/~vgg/data/flowers/102/imagelabels.mat\n",
            "Resolving www.robots.ox.ac.uk (www.robots.ox.ac.uk)... 129.67.94.2\n",
            "Connecting to www.robots.ox.ac.uk (www.robots.ox.ac.uk)|129.67.94.2|:80... connected.\n",
            "HTTP request sent, awaiting response... 200 OK\n",
            "Length: 502\n",
            "Saving to: ‘imagelabels.mat’\n",
            "\n",
            "imagelabels.mat     100%[===================>]     502  --.-KB/s    in 0s      \n",
            "\n",
            "2020-04-03 10:06:13 (88.6 MB/s) - ‘imagelabels.mat’ saved [502/502]\n",
            "\n"
          ],
          "name": "stdout"
        }
      ]
    },
    {
      "cell_type": "code",
      "metadata": {
        "id": "il_G6cS5pjr2",
        "colab_type": "code",
        "outputId": "39befc1c-39d0-466d-8a3c-27a542e23b61",
        "colab": {
          "base_uri": "https://localhost:8080/",
          "height": 34
        }
      },
      "source": [
        "!ls ~/data/flowers"
      ],
      "execution_count": 2,
      "outputs": [
        {
          "output_type": "stream",
          "text": [
            "imagelabels.mat  jpg  setid.mat\n"
          ],
          "name": "stdout"
        }
      ]
    },
    {
      "cell_type": "code",
      "metadata": {
        "id": "ajaJ24QcpklP",
        "colab_type": "code",
        "outputId": "2d65b2b2-9d49-4a59-ef40-25ee7326ff22",
        "colab": {
          "base_uri": "https://localhost:8080/",
          "height": 34
        }
      },
      "source": [
        "cd ~/data/flowers/"
      ],
      "execution_count": 3,
      "outputs": [
        {
          "output_type": "stream",
          "text": [
            "/root/data/flowers\n"
          ],
          "name": "stdout"
        }
      ]
    },
    {
      "cell_type": "code",
      "metadata": {
        "id": "PGTCpvnppuGf",
        "colab_type": "code",
        "outputId": "694746a3-560d-449e-fc55-20bd87af4224",
        "colab": {
          "base_uri": "https://localhost:8080/",
          "height": 105
        }
      },
      "source": [
        "import os\n",
        "import numpy as np\n",
        "import tensorflow.compat.v1 as tf\n",
        "tf.disable_v2_behavior()\n",
        "import scipy.io\n",
        "from keras.utils import to_categorical\n",
        "import cv2\n",
        "from sklearn.model_selection import train_test_split"
      ],
      "execution_count": 4,
      "outputs": [
        {
          "output_type": "stream",
          "text": [
            "WARNING:tensorflow:From /usr/local/lib/python3.6/dist-packages/tensorflow/python/compat/v2_compat.py:96: disable_resource_variables (from tensorflow.python.ops.variable_scope) is deprecated and will be removed in a future version.\n",
            "Instructions for updating:\n",
            "non-resource variables are not supported in the long term\n"
          ],
          "name": "stdout"
        },
        {
          "output_type": "stream",
          "text": [
            "Using TensorFlow backend.\n"
          ],
          "name": "stderr"
        }
      ]
    },
    {
      "cell_type": "code",
      "metadata": {
        "id": "B27BZXaapNE8",
        "colab_type": "code",
        "colab": {}
      },
      "source": [
        "img_labels = scipy.io.loadmat(\"imagelabels.mat\")\n",
        "img_labels = img_labels[\"labels\"]\n",
        "img_labels = img_labels[0]\n",
        "for i in range(len(img_labels)):\n",
        "    img_labels[i] = img_labels[i] - 1"
      ],
      "execution_count": 0,
      "outputs": []
    },
    {
      "cell_type": "code",
      "metadata": {
        "id": "EcO8dw1kpPin",
        "colab_type": "code",
        "colab": {}
      },
      "source": [
        "splits = scipy.io.loadmat(\"setid.mat\")\n",
        "test_data = splits[\"valid\"][0]"
      ],
      "execution_count": 0,
      "outputs": []
    },
    {
      "cell_type": "code",
      "metadata": {
        "id": "ZfVBZFYleVb1",
        "colab_type": "code",
        "outputId": "95174d14-f646-439a-91e9-0eded7d6d4ed",
        "colab": {
          "base_uri": "https://localhost:8080/",
          "height": 34
        }
      },
      "source": [
        "print(len(test_data))"
      ],
      "execution_count": 7,
      "outputs": [
        {
          "output_type": "stream",
          "text": [
            "1020\n"
          ],
          "name": "stdout"
        }
      ]
    },
    {
      "cell_type": "code",
      "metadata": {
        "id": "RPWaURespR4M",
        "colab_type": "code",
        "colab": {}
      },
      "source": [
        "test_x = []\n",
        "dir = \"jpg/\"\n",
        "for imgs in test_data:\n",
        "    image = str(imgs).zfill(5)\n",
        "    image = cv2.imread(os.path.join(dir,\"image_\"+image+\".jpg\"))\n",
        "    resized = cv2.resize(image, (150,150))\n",
        "    normalized_img = cv2.normalize(resized, None, alpha=0, beta=1, norm_type=cv2.NORM_MINMAX, dtype=cv2.CV_32F)\n",
        "    test_x.append(normalized_img)"
      ],
      "execution_count": 0,
      "outputs": []
    },
    {
      "cell_type": "code",
      "metadata": {
        "id": "pERnhL9dpUPS",
        "colab_type": "code",
        "colab": {}
      },
      "source": [
        "test_x = np.array(test_x)\n",
        "test_y = []\n",
        "for i in range(len(test_x)):\n",
        "    test_y.append(img_labels[test_data[i]-1])"
      ],
      "execution_count": 0,
      "outputs": []
    },
    {
      "cell_type": "code",
      "metadata": {
        "id": "Fz_g9kiQUCEg",
        "colab_type": "code",
        "outputId": "ded99844-f48c-43d9-f7e4-0927ae1886ab",
        "colab": {
          "base_uri": "https://localhost:8080/",
          "height": 34
        }
      },
      "source": [
        "test_x.shape"
      ],
      "execution_count": 10,
      "outputs": [
        {
          "output_type": "execute_result",
          "data": {
            "text/plain": [
              "(1020, 150, 150, 3)"
            ]
          },
          "metadata": {
            "tags": []
          },
          "execution_count": 10
        }
      ]
    },
    {
      "cell_type": "code",
      "metadata": {
        "id": "HJrkPT_mpWST",
        "colab_type": "code",
        "outputId": "6d4c0b52-8fdc-43b7-bad6-7348e2096a26",
        "colab": {
          "base_uri": "https://localhost:8080/",
          "height": 224
        }
      },
      "source": [
        "graph1 = tf.Graph()\n",
        "with graph1.as_default():\n",
        "  with tf.Session(graph=graph1) as sess:\n",
        "    tf.saved_model.loader.load(sess, [\"serve\"], '/root/data/flowers')\n",
        "    x = graph1.get_tensor_by_name('x:0')\n",
        "    layer_fc2 = graph1.get_tensor_by_name('layer_fc2:0')\n",
        "    preds = sess.run(layer_fc2, feed_dict={x: test_x})\n",
        "\n",
        "    loss = tf.reduce_mean(tf.nn.softmax_cross_entropy_with_logits(logits=tf.cast(preds, tf.float32),\n",
        "                                                              labels=tf.cast(tf.keras.utils.to_categorical(test_y), tf.float32)))\n",
        "    accuracy = tf.reduce_mean(tf.cast(tf.equal(np.argmax(preds, axis=1), test_y), tf.float32))\n",
        "\n",
        "    print('Loss :',loss.eval())\n",
        "    print('Accuracy :', accuracy.eval())\n",
        "\n"
      ],
      "execution_count": 13,
      "outputs": [
        {
          "output_type": "stream",
          "text": [
            "INFO:tensorflow:Restoring parameters from /root/data/flowers/variables/variables\n",
            "WARNING:tensorflow:From <ipython-input-13-a99478a4743a>:10: softmax_cross_entropy_with_logits (from tensorflow.python.ops.nn_ops) is deprecated and will be removed in a future version.\n",
            "Instructions for updating:\n",
            "\n",
            "Future major versions of TensorFlow will allow gradients to flow\n",
            "into the labels input on backprop by default.\n",
            "\n",
            "See `tf.nn.softmax_cross_entropy_with_logits_v2`.\n",
            "\n",
            "Loss : 1.4947926\n",
            "Accuracy : 0.66764706\n"
          ],
          "name": "stdout"
        }
      ]
    },
    {
      "cell_type": "code",
      "metadata": {
        "id": "YhqfOS59iDrG",
        "colab_type": "code",
        "colab": {}
      },
      "source": [
        ""
      ],
      "execution_count": 0,
      "outputs": []
    }
  ]
}